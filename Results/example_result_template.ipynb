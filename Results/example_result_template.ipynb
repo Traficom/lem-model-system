{
 "cells": [
  {
   "cell_type": "markdown",
   "metadata": {},
   "source": [
    "# Example 1: Scenario accessibility analysis"
   ]
  },
  {
   "cell_type": "markdown",
   "metadata": {},
   "source": [
    "First import required libraries. Here we are using model-system data explorer, geopandas and matplotilib."
   ]
  },
  {
   "cell_type": "code",
   "execution_count": null,
   "metadata": {},
   "outputs": [],
   "source": [
    "import os, sys\n",
    "import matplotlib.pyplot as plt\n",
    "import matplotlib as mpl\n",
    "import numpy as np\n",
    "\n",
    "sys.path.append(\"../scripts/\")\n",
    "from data_explorer.scenario_data import ScenarioData"
   ]
  },
  {
   "cell_type": "markdown",
   "metadata": {},
   "source": [
    "Then we'll load scenario data for scenario. Here we load data for 2023. \n",
    "\n",
    "Model-system results are stored in same `model-system/Results` folder so we can use relative paths to scenario data."
   ]
  },
  {
   "cell_type": "code",
   "execution_count": null,
   "metadata": {},
   "outputs": [],
   "source": [
    "scenario1 = ScenarioData(\n",
    "    name = \"2023\", \n",
    "    result_data_path = \"../Results/2023/\", \n",
    "    base_data_path = \"../Base_input_data/2018_zonedata/\", \n",
    "    scenario_data_path = \"../Scenario_input_data/2023/\"\n",
    ")\n"
   ]
  },
  {
   "cell_type": "code",
   "execution_count": null,
   "metadata": {},
   "outputs": [],
   "source": [
    "\n",
    "import geopandas as gpd\n",
    "links = gpd.read_file(\"C:/Users/suppoatt/emme/koko_suomi_network_22-05-2024/koko_suomi.gpkg\", engine = \"pyogrio\", layer = \"network_links\")\n",
    "links = links.to_crs(\"EPSG:3067\")\n"
   ]
  },
  {
   "cell_type": "markdown",
   "metadata": {},
   "source": [
    "Use subregion of Sourthern Finland"
   ]
  },
  {
   "cell_type": "code",
   "execution_count": null,
   "metadata": {},
   "outputs": [],
   "source": [
    "scenario1.set_subregion(\"county\", [\"Uusimaa\"])"
   ]
  },
  {
   "cell_type": "markdown",
   "metadata": {},
   "source": [
    "### Scenario results\n",
    "Take a look at the data:"
   ]
  },
  {
   "cell_type": "markdown",
   "metadata": {},
   "source": [
    "Below is accessibility for work tours, when all modes are available for the traveller. Accessibility is defined as expected maximum utility of all mode and destinations that are available for consumer. Plot shows deciles of this accessibility value, so that each bin has equal number of observations."
   ]
  },
  {
   "cell_type": "code",
   "execution_count": null,
   "metadata": {},
   "outputs": [],
   "source": [
    "# Get accessibility data to geodataframe\n",
    "data = scenario1.get_result_data(\"sustainable_accessibility.txt\", geometry=True)\n",
    "column_name = \"hb_edu_basic\"\n",
    "\n",
    "# Matplot\n",
    "fig, ax = plt.subplots(figsize=(12, 8))\n",
    "plt.style.use(\"default\")\n",
    "\n",
    "# Discrete colour scale\n",
    "discrete_cmap = plt.cm.get_cmap(\"viridis\")\n",
    "\n",
    "# Set bins of 10 quantiles\n",
    "range = np.quantile(data[column_name], np.arange(0, 1, 0.1))\n",
    "norm = mpl.colors.BoundaryNorm(range, discrete_cmap.N)  \n",
    "\n",
    "\n",
    "# Visualize travel times into continuous coloring scheme\n",
    "data.plot(ax=ax, column=column_name, linewidth=0.03, \n",
    "          cmap=discrete_cmap, norm=norm,\n",
    "          alpha=0.9, legend=True, \n",
    "          legend_kwds={\"label\": \"Saavutettavuusdesiilit\", \"orientation\": \"vertical\"})\n",
    "\n",
    "# Add links to plot\n",
    "links[links.layer == 4].plot(ax=ax, edgecolor=\"white\", linestyle=\"-\", linewidth=0.5)\n",
    "scenario1.get_basemap().plot(ax=ax, facecolor=\"#add8e6\")\n",
    "\n",
    "# Themes\n",
    "ax.set_axis_off()\n",
    "plt.tight_layout()\n",
    "plt.title(f\"Skenaario: {scenario1.name}\")\n",
    "\n",
    "# Set axis bb\n",
    "xmin, ymin, xmax, ymax = data.total_bounds\n",
    "pad = 0.05  # add a padding around the geometry\n",
    "ax.set_xlim(xmin-pad, xmax+pad)\n",
    "ax.set_ylim(ymin-pad, ymax+pad)"
   ]
  },
  {
   "cell_type": "code",
   "execution_count": null,
   "metadata": {},
   "outputs": [],
   "source": []
  }
 ],
 "metadata": {
  "kernelspec": {
   "display_name": "Python 3",
   "language": "python",
   "name": "python3"
  },
  "language_info": {
   "codemirror_mode": {
    "name": "ipython",
    "version": 3
   },
   "file_extension": ".py",
   "mimetype": "text/x-python",
   "name": "python",
   "nbconvert_exporter": "python",
   "pygments_lexer": "ipython3",
   "version": "3.7.9"
  },
  "modeller": {
   "desktop_app_port": "60191"
  }
 },
 "nbformat": 4,
 "nbformat_minor": 2
}
